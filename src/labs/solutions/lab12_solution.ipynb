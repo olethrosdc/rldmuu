{
 "cells": [
  {
   "cell_type": "markdown",
   "id": "584c6942",
   "metadata": {},
   "source": [
    "## RLDMUU 2025\n",
    "#### MARL - introduction\n",
    "jakub.tluczek@unine.ch"
   ]
  },
  {
   "cell_type": "markdown",
   "id": "62401b8f",
   "metadata": {},
   "source": [
    "In the last lab of the RLDMUU course, we are going to explore the basics of multi agent reinforcement learning. We are going to go through the Petting Zoo workflow (Gymnasium-based framework for multi agent setting), as well as an example end to end training of multiple agents."
   ]
  },
  {
   "cell_type": "code",
   "execution_count": 1,
   "id": "1155ab8f",
   "metadata": {},
   "outputs": [],
   "source": [
    "import pettingzoo\n",
    "import torch\n",
    "import torch.nn as nn\n",
    "import torch.nn.functional as F\n",
    "import gymnasium as gym\n",
    "import numpy as np\n",
    "from matplotlib import pyplot as plt\n",
    "from tqdm import tqdm\n",
    "from collections import deque\n",
    "import random\n",
    "torch.manual_seed(123)\n",
    "device = torch.device('cuda' if torch.cuda.is_available() else 'cpu')\n",
    "np.random.seed(123)"
   ]
  },
  {
   "cell_type": "markdown",
   "id": "2967574f",
   "metadata": {},
   "source": [
    "Petting Zoo offer the same environment based workflow as Gymnasium, while offering two APIs for agent interaction:\n",
    "\n",
    "- Agent Environment Cycle (AEC) API - turn based\n",
    "- Parallel API - moves are made simultaneously\n",
    "\n",
    "Petting zoo features similar `step` function we know from Gymnasium, with this difference however, that here we operate on dictionaries, where each agent's observation, reward or action is an entry in the `dict` with agent's identifier serving as a key. Moreover, in AEC API `step` only acts on the environment, while the observations are retrieved using `last` method. Let's take a look at an example, a classic tic-tac-toe game with AEC:"
   ]
  },
  {
   "cell_type": "code",
   "execution_count": null,
   "id": "72ef15c8",
   "metadata": {},
   "outputs": [],
   "source": [
    "from pettingzoo.classic import tictactoe_v3\n",
    "\n",
    "env = tictactoe_v3.env()\n",
    "env.reset()\n",
    "\n",
    "# agent_iter is an iterable object that generates an ID of the agent whose turn is it right now\n",
    "for agent in env.agent_iter():\n",
    "    observation, reward, termination, truncation, info = env.last()\n",
    "\n",
    "\n",
    "    if termination or truncation:\n",
    "        action = None\n",
    "    else:\n",
    "        # action mask part in the observation vector tells us which actions are allowed\n",
    "        mask = observation[\"action_mask\"]\n",
    "\n",
    "        action = env.action_space(agent).sample(mask)\n",
    "\n",
    "    env.step(action)\n",
    "env.close()"
   ]
  },
  {
   "cell_type": "markdown",
   "id": "73d05ab0",
   "metadata": {},
   "source": [
    "Another way to act with multiagent environment is to act in parallel. Agents take action at the same time, without observing the current action of other agents. Observations are retrieved in a similar way as in Gymnasium:"
   ]
  },
  {
   "cell_type": "code",
   "execution_count": 3,
   "id": "9719af3c",
   "metadata": {},
   "outputs": [],
   "source": [
    "from pettingzoo.butterfly import knights_archers_zombies_v10\n",
    "\n",
    "env = knights_archers_zombies_v10.parallel_env()\n",
    "observations, infos = env.reset()\n",
    "\n",
    "# instead of generating current IDs from iterable, loop until therea are no more active agents\n",
    "while env.agents:\n",
    "    # sampling actions for all agents\n",
    "    actions = {agent: env.action_space(agent).sample() for agent in env.agents}\n",
    "\n",
    "    observations, rewards, terminations, truncations, infos = env.step(actions)\n",
    "env.close()"
   ]
  },
  {
   "cell_type": "markdown",
   "id": "61d1fd85",
   "metadata": {},
   "source": [
    "Let's stick to tic-tac-toe for the purpose of this class. The nice thing about classical games is that they have nice, predefined goal (winning) so we don't have to think about the solution concepts. In case of tic tac toe we also assume that it's not in agent's interest to cooperate, as it is ultimately a zero sum game. Though simple, this environment still suffers from usual problems related to MARL - implementing a simple Q-Learning is tricky, since the environment is not stationary, moreover the rewards are incredibly sparse (they are only awarded at the end of the game). \n",
    "\n",
    "Let's take a look at the first method, called **self play**. Here we play a game against our own policy, which we update periodically. As we improve our $\\pi$, after each time we update the \"opponent\", it gets better at the game. First, let's reuse the DQN we have coded before, it will form the basis of our policy."
   ]
  },
  {
   "cell_type": "code",
   "execution_count": 4,
   "id": "23d9f23a",
   "metadata": {},
   "outputs": [],
   "source": [
    "class QNetwork(nn.Module):\n",
    "    def __init__(self, n_states, n_actions, hidden_dim):\n",
    "        super(QNetwork, self).__init__()\n",
    "        self.linear1 = nn.Linear(n_states, hidden_dim)\n",
    "        self.linear2 = nn.Linear(hidden_dim, hidden_dim)\n",
    "        self.linear3 = nn.Linear(hidden_dim, n_actions)\n",
    "\n",
    "    def forward(self, state):\n",
    "        x = F.relu(self.linear1(state))\n",
    "        x = F.relu(self.linear2(x))\n",
    "        return self.linear3(x)"
   ]
  },
  {
   "cell_type": "markdown",
   "id": "cfd9f0b6",
   "metadata": {},
   "source": [
    "At first, agent doesn't know the game at all, so you can initially fill the replay buffer with random games - just sample the action spaces of both players. Remember to use action mask!"
   ]
  },
  {
   "cell_type": "code",
   "execution_count": 38,
   "id": "d1c1fab4",
   "metadata": {},
   "outputs": [],
   "source": [
    "class ReplayBuffer:\n",
    "    def __init__(self, size):\n",
    "        self.size = size\n",
    "        self.memory = deque([], maxlen=size)\n",
    "\n",
    "    # this method samples transitions and returns tensors of each type registered in the environment step\n",
    "    def sample(self, sample_size):\n",
    "        memory_with_lookahead = deque([(self.memory[i][0], self.memory[i][1], self.memory[i][2], self.memory[i+1][0], self.memory[i][3]) for i in range(len(self.memory) - 1)])\n",
    "        sample = random.sample(memory_with_lookahead, sample_size)\n",
    "        states = []\n",
    "        actions = []\n",
    "        rewards = []\n",
    "        next_states = []\n",
    "        dones = []\n",
    "        for x in sample:\n",
    "            states.append(x[0])\n",
    "            actions.append(x[1])\n",
    "            rewards.append(x[2])\n",
    "            next_states.append(x[3])\n",
    "            dones.append(x[4])\n",
    "        states = torch.tensor(states).to(device)\n",
    "        actions = torch.tensor(actions).to(device)\n",
    "        rewards = torch.tensor(rewards).to(device)\n",
    "        next_states = torch.tensor(next_states).to(device)\n",
    "        dones = torch.tensor(dones, dtype=torch.int).to(device)\n",
    "        return states, actions, rewards, next_states, dones\n",
    "    \n",
    "    # add transition to the buffer\n",
    "    def append(self, item):\n",
    "        self.memory.append(item)\n",
    "\n",
    "    def __len__(self):\n",
    "        return len(self.memory)\n",
    "    \n",
    "def parameter_update(source_model, target_model, tau):\n",
    "    for target_param, source_param in zip(target_model.parameters(), source_model.parameters()):\n",
    "        target_param.data.copy_(tau * source_param.data + (1.0 - tau)*target_param.data)"
   ]
  },
  {
   "cell_type": "markdown",
   "id": "2ed10fff",
   "metadata": {},
   "source": [
    "Now your task is to define a policy of an agent we want to train, as well as \"oponnent\" policy. You can reuse the code from Lab 8. Although you can reuse the target network as the \"oponnent\", remember to turn off gradient updates when picking an oponnent's move. "
   ]
  },
  {
   "cell_type": "code",
   "execution_count": 54,
   "id": "77c99b82",
   "metadata": {},
   "outputs": [],
   "source": [
    "NUM_STATES = 3*3*2\n",
    "NUM_ACTIONS = 9\n",
    "policy_network = QNetwork(n_states=NUM_STATES, n_actions=NUM_ACTIONS, hidden_dim=128).to(device)\n",
    "target_network = QNetwork(n_states=NUM_STATES, n_actions=NUM_ACTIONS, hidden_dim=128).to(device)\n",
    "policy_optimizer = torch.optim.Adam(policy_network.parameters(), lr=1e-4)\n",
    "replay_buffer = ReplayBuffer(10_000)"
   ]
  },
  {
   "cell_type": "markdown",
   "id": "63a071d5",
   "metadata": {},
   "source": [
    "Finally your task would be to create a training loop for DQN with self-play. Plot the results after you are finished."
   ]
  },
  {
   "cell_type": "code",
   "execution_count": 78,
   "id": "ee7266f0",
   "metadata": {},
   "outputs": [
    {
     "name": "stderr",
     "output_type": "stream",
     "text": [
      "100%|██████████| 10000/10000 [00:17<00:00, 585.55it/s]\n",
      "  0%|          | 0/10000 [00:00<?, ?it/s]/tmp/ipykernel_1344/352047754.py:68: UserWarning: To copy construct from a tensor, it is recommended to use sourceTensor.clone().detach() or sourceTensor.clone().detach().requires_grad_(True), rather than torch.tensor(sourceTensor).\n",
      "  q_target = target_network(torch.tensor(next_states, dtype=torch.float32).to(device)).detach().max(1)[0]\n",
      "100%|██████████| 10000/10000 [05:37<00:00, 29.66it/s]\n"
     ]
    }
   ],
   "source": [
    "NUM_TRAJECTORIES = 10000\n",
    "UPDATE_FREQ = 20\n",
    "\n",
    "gamma = 0.99\n",
    "EPSILON = 0.1\n",
    "SOFT_UPDATE = 0.01\n",
    "BATCH_SIZE = 512\n",
    "\n",
    "\n",
    "env = tictactoe_v3.env()\n",
    "\n",
    "# fill the buffer with the random transitions\n",
    "for _ in tqdm(range(10000)):\n",
    "    env.reset()\n",
    "    for agent in env.agent_iter():\n",
    "        observation, reward, termination, truncation, info = env.last()\n",
    "        if termination or truncation:\n",
    "            action = None\n",
    "        else:\n",
    "            # action mask part in the observation vector tells us which actions are allowed\n",
    "            mask = observation[\"action_mask\"]\n",
    "\n",
    "            action = env.action_space(agent).sample(mask)\n",
    "\n",
    "        replay_buffer.append((observation['observation'].flatten(), action if action is not None else 0, reward, int(termination)))\n",
    "        \n",
    "        env.step(action)\n",
    "# create an AEC training loop\n",
    "episode_results = []\n",
    "policy_losses = []\n",
    "for tau in tqdm(range(NUM_TRAJECTORIES)):\n",
    "    episode_reward = 0\n",
    "    env.reset()\n",
    "    for agent in env.agent_iter():\n",
    "        observation, reward, termination, truncation, info = env.last()\n",
    "        if termination or truncation:\n",
    "            action = None\n",
    "        else:\n",
    "            mask = observation['action_mask']\n",
    "            if agent == 'player_1':\n",
    "                action_q_values = policy_network(torch.tensor(observation['observation'].flatten(), dtype=torch.float32).to(device))\n",
    "                # logging the reward\n",
    "                episode_reward += reward\n",
    "            # Detaching gradient when playing as opponent\n",
    "            elif agent == 'player_2':\n",
    "                with torch.no_grad():\n",
    "                    action_q_values = target_network(torch.tensor(observation['observation'].flatten(), dtype=torch.float32).to(device))\n",
    "            masked_q_values = action_q_values.masked_fill(~torch.tensor(mask, dtype=bool).to(device), float('-inf'))\n",
    "            action = np.random.choice(\n",
    "                [torch.argmax(masked_q_values.flatten()).detach().cpu().numpy(),\n",
    "                 np.random.choice(np.nonzero(mask)[0])],\n",
    "                 p=[1-EPSILON, EPSILON]\n",
    "            )\n",
    "        replay_buffer.append((observation['observation'].flatten(), action if action is not None else 0, reward, int(termination)))\n",
    "        env.step(action)\n",
    "\n",
    "    episode_results.append(episode_reward)\n",
    "\n",
    "    # No warmup needed, transition buffer filled in the beginning\n",
    "    states, actions, rewards, next_states, dones = replay_buffer.sample(sample_size=BATCH_SIZE)\n",
    "    # getting the maximizing Q-value\n",
    "    # max(x) return first x values ordered in a decreasing order\n",
    "    q_target = target_network(torch.tensor(next_states, dtype=torch.float32).to(device)).detach().max(1)[0]\n",
    "    # using Q-values of target network only for non-terminal state\n",
    "    expected_values = rewards + gamma * q_target*(torch.ones(BATCH_SIZE).to(device) - dones)\n",
    "    # selecting Q-values of actions taken, using current policy network\n",
    "    # gather() takes only values indicated by a given index, in this case, action taken\n",
    "    output = policy_network(states.float()).gather(1, actions.view(-1,1))\n",
    "    # computing the loss between r + γ * max Q(s',a) and Q(s,a)\n",
    "    loss = F.mse_loss(output.flatten(), expected_values)\n",
    "    policy_losses.append(loss.item())\n",
    "    policy_optimizer.zero_grad()\n",
    "    loss.backward()\n",
    "    policy_optimizer.step()\n",
    "    # soft parameter update\n",
    "    parameter_update(policy_network, target_network, SOFT_UPDATE)\n",
    "    \n"
   ]
  },
  {
   "cell_type": "code",
   "execution_count": 79,
   "id": "0ed7c57b",
   "metadata": {},
   "outputs": [
    {
     "data": {
      "text/plain": [
       "[<matplotlib.lines.Line2D at 0x7f41bff9b4c0>]"
      ]
     },
     "execution_count": 79,
     "metadata": {},
     "output_type": "execute_result"
    },
    {
     "data": {
      "image/png": "[encoded data removed]",
      "text/plain": [
       "<Figure size 640x480 with 1 Axes>"
      ]
     },
     "metadata": {},
     "output_type": "display_data"
    }
   ],
   "source": [
    "from matplotlib import pyplot as plt\n",
    "\n",
    "plt.plot(policy_losses)"
   ]
  },
  {
   "cell_type": "markdown",
   "id": "42ec7e17",
   "metadata": {},
   "source": [
    "*BONUS*: Since the rewards are very sparse, you can augment the reward function and use another technique called **curriculum learning**. Using your expert knowledge you can then lead policy into regions that are known to work in the particular game. For example, try awarding agent for putting 2 X's or O's in row without opponents piece."
   ]
  }
 ],
 "metadata": {
  "kernelspec": {
   "display_name": "py10",
   "language": "python",
   "name": "python3"
  },
  "language_info": {
   "codemirror_mode": {
    "name": "ipython",
    "version": 3
   },
   "file_extension": ".py",
   "mimetype": "text/x-python",
   "name": "python",
   "nbconvert_exporter": "python",
   "pygments_lexer": "ipython3",
   "version": "3.10.16"
  }
 },
 "nbformat": 4,
 "nbformat_minor": 5
}
